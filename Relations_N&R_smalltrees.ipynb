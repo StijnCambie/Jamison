{
 "cells": [
  {
   "cell_type": "code",
   "execution_count": 1,
   "metadata": {},
   "outputs": [],
   "source": [
    "#Define functions that compute N and R of a tree G\n",
    "\n",
    "def SubtreePoly(S,x): #Input S is tree, input x is variable for polynomial, output is subtree polynomial\n",
    "    D={}\n",
    "    P=0;\n",
    "    T=S.copy();\n",
    "    for v in T.vertices():\n",
    "        D[v]=x;\n",
    "    while T.order()>1:\n",
    "        for v in T.vertices():\n",
    "            if T.degree(v)==1:\n",
    "                u=v;\n",
    "                break;\n",
    "        w=T[u][0];\n",
    "        D[w]=expand(D[w]*(D[u]+1));\n",
    "        P=P+D[u];\n",
    "        T.delete_vertex(u);\n",
    "    return P+D[T.vertices()[0]];\n",
    "\n",
    "def N(G): #number of subtrees of G\n",
    "    P=SubtreePoly(G,x)\n",
    "    Q=derivative(P,x);\n",
    "    M=P.substitute(x=1);\n",
    "    return M;\n",
    "\n",
    "def R(G): #total order of the subtrees of the tree G \n",
    "    P=SubtreePoly(G,x)\n",
    "    Q=derivative(P,x);\n",
    "    M=Q.substitute(x=1)\n",
    "    return M;"
   ]
  },
  {
   "cell_type": "code",
   "execution_count": 2,
   "metadata": {},
   "outputs": [],
   "source": [
    "#generate rooted trees, all of whose vertices have degree different from 2, except possibly the root v.\n",
    "#G keeps all series-reduced trees of order at most 10\n",
    "#H contains pairs of a rooted tree and vertex v, where v is the unique vertex of degree 2.\n",
    "\n",
    "H=[]\n",
    "G=[]\n",
    "for n in range(2,11):\n",
    "    for g in graphs.trees(n):\n",
    "        L=[v for v in g if g.degree(v) == 2]\n",
    "        if len(L)==1:\n",
    "            H.append((g,L[0])) \n",
    "        if len(L)==0:\n",
    "            G.append(g)"
   ]
  },
  {
   "cell_type": "code",
   "execution_count": 3,
   "metadata": {},
   "outputs": [],
   "source": [
    "#For the above rooted trees, we compute \\overline N_v, overline R_v, N_v, R_v\n",
    "#We collect them based on the root having degree 1, 2 or at least 3 (in X,Y and Z resp.)\n",
    "\n",
    "from sage.graphs.connectivity import connected_components_subgraphs\n",
    "X=[]\n",
    "Z=[]\n",
    "for g in G:\n",
    "    for v in g.vertices():\n",
    "        if g.degree(v)==1:\n",
    "            h=g.copy();\n",
    "            h.delete_vertex(v);\n",
    "            Nb=0\n",
    "            Rb=0\n",
    "            for j in connected_components_subgraphs(h):\n",
    "                Nb+=N(j)\n",
    "                Rb+=R(j)\n",
    "            N1=N(g)-Nb\n",
    "            R1=R(g)-Rb\n",
    "            if [Nb,Rb,N1,R1] not in X:\n",
    "                X.append([Nb,Rb,N1,R1])\n",
    "        if g.degree(v)>1:\n",
    "            h=g.copy();\n",
    "            h.delete_vertex(v);\n",
    "            Nb=0\n",
    "            Rb=0\n",
    "            for j in connected_components_subgraphs(h):\n",
    "                Nb+=N(j)\n",
    "                Rb+=R(j)\n",
    "            N1=N(g)-Nb\n",
    "            R1=R(g)-Rb\n",
    "            if [Nb,Rb,N1,R1] not in Z:\n",
    "                Z.append([Nb,Rb,N1,R1]) \n",
    "Y=[]\n",
    "for (g,v) in H:\n",
    "    h=g.copy();\n",
    "    h.delete_vertex(v);\n",
    "    Nb=0\n",
    "    Rb=0\n",
    "    for j in connected_components_subgraphs(h):\n",
    "        Nb+=N(j)\n",
    "        Rb+=R(j)\n",
    "    N1=N(g)-Nb\n",
    "    R1=R(g)-Rb\n",
    "    if [Nb,Rb,N1,R1] not in Y:\n",
    "        Y.append([Nb,Rb,N1,R1])"
   ]
  },
  {
   "cell_type": "code",
   "execution_count": 34,
   "metadata": {},
   "outputs": [
    {
     "name": "stdout",
     "output_type": "stream",
     "text": [
      "[1, 1, 2, 3]\n",
      "[6, 10, 5, 13]\n",
      "[11, 23, 9, 29]\n",
      "[17, 42, 11, 42]\n",
      "[2, 2, 4, 8]\n",
      "[7, 11, 10, 31]\n",
      "[3, 3, 8, 20]\n"
     ]
    }
   ],
   "source": [
    "#We compute all lists [Nb,Rb,N1,R1] for the cases where R_1>N_1^2 /4\n",
    "for [Nb,Rb,N1,R1] in X:\n",
    "    if R1>N1^2/4:\n",
    "        print([Nb,Rb,N1,R1])\n",
    "for [Nb,Rb,N1,R1] in Y:\n",
    "    if R1>N1^2/4:\n",
    "        print([Nb,Rb,N1,R1])\n",
    "for [Nb,Rb,N1,R1] in Z:\n",
    "    if R1>N1^2/4:\n",
    "        print([Nb,Rb,N1,R1])\n",
    "        \n",
    "       "
   ]
  },
  {
   "cell_type": "code",
   "execution_count": 35,
   "metadata": {},
   "outputs": [],
   "source": [
    "#we define the function f that gives the difference between the RHS and LHS of the main inequality\n",
    "def f(N1b,R1b,N1,R1,N2b,R2b,N2,R2):\n",
    "    Nv=N1*N2\n",
    "    Nvb=N1b+N2b\n",
    "    Rv=R1*N2+R2*N1-Nv\n",
    "    Rvb=R1b+R2b\n",
    "    LHS=Nvb*Rv-Nv*Rvb\n",
    "    RHS=Nv*(Nv+2*Nvb)\n",
    "    return RHS-LHS"
   ]
  },
  {
   "cell_type": "code",
   "execution_count": 36,
   "metadata": {},
   "outputs": [
    {
     "data": {
      "text/plain": [
       "24"
      ]
     },
     "execution_count": 36,
     "metadata": {},
     "output_type": "execute_result"
    }
   ],
   "source": [
    "#We check that f is positive for all combinations with T1 and T2 having at most 3 leaves\n",
    "A=[]\n",
    "for [N1b,R1b,N1,R1] in [[1, 1, 2, 3],[6, 10, 5, 13],[11, 23, 9, 29],[17, 42, 11, 42],[2, 2, 4, 8]\n",
    "                       ,[7, 11, 10, 31],[3, 3, 8, 20]]:\n",
    "    for [N2b,R2b,N2,R2] in [[1, 1, 2, 3],[6, 10, 5, 13],[11, 23, 9, 29],[17, 42, 11, 42],[2, 2, 4, 8]\n",
    "                       ,[7, 11, 10, 31],[3, 3, 8, 20]]: \n",
    "        A.append(f(N1b,R1b,N1,R1,N2b,R2b,N2,R2))\n",
    "min(A)\n"
   ]
  },
  {
   "cell_type": "code",
   "execution_count": 37,
   "metadata": {},
   "outputs": [],
   "source": [
    "#we define the 4 functions that give some factors in decompositions\n",
    "def f1(N1b,R1b,N1,R1):\n",
    "    return(N1^2+N1-2*R1-N1*N1b/4)\n",
    "def f2(N1b,R1b,N1,R1):\n",
    "    return(N1*N1b+4*R1-N1^2-4*N1)\n",
    "def f3(N1b,R1b,N1,R1):\n",
    "    return(N1^2-R1-N1*N1b/4)\n",
    "def f4(N1b,R1b,N1,R1):\n",
    "    return(N1*N1b+2*R1-N1^2-2*N1)"
   ]
  },
  {
   "cell_type": "code",
   "execution_count": 38,
   "metadata": {},
   "outputs": [
    {
     "name": "stdout",
     "output_type": "stream",
     "text": [
      "-1/2\n",
      "-7/2\n",
      "29/4\n",
      "5/4\n",
      "2\n",
      "61/2\n",
      "26\n"
     ]
    }
   ],
   "source": [
    "#the first two are positive if T is not P_2 or S_4\n",
    "for [N1b,R1b,N1,R1] in [[1, 1, 2, 3],[6, 10, 5, 13],[11, 23, 9, 29],[17, 42, 11, 42],[2, 2, 4, 8]\n",
    "                       ,[7, 11, 10, 31],[3, 3, 8, 20]]:\n",
    "    print(f1(N1b,R1b,N1,R1))"
   ]
  },
  {
   "cell_type": "code",
   "execution_count": 39,
   "metadata": {},
   "outputs": [
    {
     "name": "stdout",
     "output_type": "stream",
     "text": [
      "2\n",
      "37\n",
      "98\n",
      "190\n",
      "8\n",
      "54\n",
      "8\n"
     ]
    }
   ],
   "source": [
    "for [N1b,R1b,N1,R1] in [[1, 1, 2, 3],[6, 10, 5, 13],[11, 23, 9, 29],[17, 42, 11, 42],[2, 2, 4, 8]\n",
    "                       ,[7, 11, 10, 31],[3, 3, 8, 20]]:\n",
    "    print(f2(N1b,R1b,N1,R1))"
   ]
  },
  {
   "cell_type": "code",
   "execution_count": 40,
   "metadata": {},
   "outputs": [
    {
     "name": "stdout",
     "output_type": "stream",
     "text": [
      "1/2\n",
      "9/2\n"
     ]
    }
   ],
   "source": [
    "#the other 2 factors are nonnegative for P_2 and S_4 \n",
    "for [N1b,R1b,N1,R1] in [[1, 1, 2, 3],[6, 10, 5, 13]]:\n",
    "    print(f3(N1b,R1b,N1,R1))"
   ]
  },
  {
   "cell_type": "code",
   "execution_count": 41,
   "metadata": {},
   "outputs": [
    {
     "name": "stdout",
     "output_type": "stream",
     "text": [
      "0\n",
      "21\n"
     ]
    }
   ],
   "source": [
    "for [N1b,R1b,N1,R1] in [[1, 1, 2, 3],[6, 10, 5, 13]]:\n",
    "    print(f4(N1b,R1b,N1,R1))"
   ]
  },
  {
   "cell_type": "code",
   "execution_count": null,
   "metadata": {},
   "outputs": [],
   "source": []
  },
  {
   "cell_type": "code",
   "execution_count": null,
   "metadata": {},
   "outputs": [],
   "source": []
  },
  {
   "cell_type": "code",
   "execution_count": null,
   "metadata": {},
   "outputs": [],
   "source": []
  }
 ],
 "metadata": {
  "kernelspec": {
   "display_name": "SageMath 9.3",
   "language": "sage",
   "name": "sagemath"
  },
  "language_info": {
   "codemirror_mode": {
    "name": "ipython",
    "version": 3
   },
   "file_extension": ".py",
   "mimetype": "text/x-python",
   "name": "python",
   "nbconvert_exporter": "python",
   "pygments_lexer": "ipython3",
   "version": "3.7.10"
  }
 },
 "nbformat": 4,
 "nbformat_minor": 4
}
